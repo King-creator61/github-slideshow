{
 "cells": [
  {
   "cell_type": "code",
   "execution_count": 2,
   "id": "6e96412d",
   "metadata": {},
   "outputs": [],
   "source": [
    "import pandas as pd"
   ]
  },
  {
   "cell_type": "code",
   "execution_count": 9,
   "id": "3d57a644",
   "metadata": {},
   "outputs": [],
   "source": [
    "mydataset={'cars':['BMW','FORD'],'passings':[1,2]}"
   ]
  },
  {
   "cell_type": "code",
   "execution_count": 10,
   "id": "37cffb99",
   "metadata": {},
   "outputs": [],
   "source": [
    "myvar=pd.DataFrame(mydataset)"
   ]
  },
  {
   "cell_type": "code",
   "execution_count": null,
   "id": "82b38e9c",
   "metadata": {},
   "outputs": [],
   "source": []
  },
  {
   "cell_type": "code",
   "execution_count": 11,
   "id": "7432a9e0",
   "metadata": {},
   "outputs": [
    {
     "name": "stdout",
     "output_type": "stream",
     "text": [
      "   cars  passings\n",
      "0   BMW         1\n",
      "1  FORD         2\n"
     ]
    }
   ],
   "source": [
    "print(myvar)"
   ]
  },
  {
   "cell_type": "code",
   "execution_count": 12,
   "id": "df550662",
   "metadata": {},
   "outputs": [
    {
     "name": "stdout",
     "output_type": "stream",
     "text": [
      "1.3.2\n"
     ]
    }
   ],
   "source": [
    "print(pd.__version__)"
   ]
  },
  {
   "cell_type": "code",
   "execution_count": null,
   "id": "135472a8",
   "metadata": {},
   "outputs": [],
   "source": []
  }
 ],
 "metadata": {
  "kernelspec": {
   "display_name": "Python 3 (ipykernel)",
   "language": "python",
   "name": "python3"
  },
  "language_info": {
   "codemirror_mode": {
    "name": "ipython",
    "version": 3
   },
   "file_extension": ".py",
   "mimetype": "text/x-python",
   "name": "python",
   "nbconvert_exporter": "python",
   "pygments_lexer": "ipython3",
   "version": "3.8.10"
  }
 },
 "nbformat": 4,
 "nbformat_minor": 5
}
