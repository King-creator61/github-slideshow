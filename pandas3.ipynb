{
 "cells": [
  {
   "cell_type": "code",
   "execution_count": 1,
   "id": "c5f646c5",
   "metadata": {},
   "outputs": [],
   "source": [
    "import pandas as pd"
   ]
  },
  {
   "cell_type": "code",
   "execution_count": 2,
   "id": "2f03d4b9",
   "metadata": {},
   "outputs": [],
   "source": [
    "df=pd.read_csv('/home/spidy/Downloads/Latest Covid-19 India Status.csv')"
   ]
  },
  {
   "cell_type": "code",
   "execution_count": 3,
   "id": "36a3c9b3",
   "metadata": {},
   "outputs": [
    {
     "name": "stdout",
     "output_type": "stream",
     "text": [
      "                                   State/UTs  Total Cases  Active  Discharged  \\\n",
      "0                        Andaman and Nicobar         7546       5        7412   \n",
      "1                             Andhra Pradesh      1983721   19549     1950623   \n",
      "2                          Arunachal Pradesh        50372    2606       47520   \n",
      "3                                      Assam       575220   11096      558720   \n",
      "4                                      Bihar       725235     286      715303   \n",
      "5                                 Chandigarh        61984      27       61146   \n",
      "6                               Chhattisgarh      1003244    1700      988004   \n",
      "7   Dadra and Nagar Haveli and Daman and Diu        10653       6       10643   \n",
      "8                                      Delhi      1436800     498     1411235   \n",
      "9                                        Goa       171944     896      167884   \n",
      "10                                   Gujarat       825064     209      814778   \n",
      "11                                   Haryana       770091     672      759769   \n",
      "12                          Himachal Pradesh       208197    2086      202576   \n",
      "13                         Jammu and Kashmir       322658    1311      316957   \n",
      "14                                 Jharkhand       347406     202      342074   \n",
      "15                                 Karnataka      2919711   23342     2859552   \n",
      "16                                    Kerala      3565574  170031     3377691   \n",
      "17                                    Ladakh        20400      72       20121   \n",
      "18                               Lakshadweep        10249      54       10145   \n",
      "19                            Madhya Pradesh       791970     149      781307   \n",
      "20                               Maharashtra      6357833   71813     6151956   \n",
      "21                                   Manipur       104791    7006       96128   \n",
      "22                                 Meghalaya        69358    4734       63450   \n",
      "23                                   Mizoram        45457   12434       32854   \n",
      "24                                  Nagaland        28709    1397       26727   \n",
      "25                                    Odisha       987956   10064      971391   \n",
      "26                                Puducherry       121665     834      119031   \n",
      "27                                    Punjab       599514     441      582753   \n",
      "28                                 Rajasthan       953840     216      944670   \n",
      "29                                    Sikkim        27908    2731       24822   \n",
      "30                                Tamil Nadu      2577237   20427     2522470   \n",
      "31                                 Telengana       649859    8242      637789   \n",
      "32                                   Tripura        80416    2044       77601   \n",
      "33                             Uttar Pradesh      1708793     570     1685449   \n",
      "34                               Uttarakhand       342423     446      334609   \n",
      "35                               West Bengal      1534360   10312     1505808   \n",
      "\n",
      "    Deaths  Active Ratio (%)  Discharge Ratio (%)  Death Ratio (%)  \n",
      "0      129              0.07                98.22             1.71  \n",
      "1    13549              0.99                98.33             0.68  \n",
      "2      246              5.17                94.34             0.49  \n",
      "3     5404              1.93                97.13             0.94  \n",
      "4     9646              0.04                98.63             1.33  \n",
      "5      811              0.04                98.65             1.31  \n",
      "6    13540              0.17                98.48             1.35  \n",
      "7        4              0.06                99.91             0.04  \n",
      "8    25067              0.03                98.22             1.74  \n",
      "9     3164              0.52                97.64             1.84  \n",
      "10   10077              0.03                98.75             1.22  \n",
      "11    9650              0.09                98.66             1.25  \n",
      "12    3535              1.00                97.30             1.70  \n",
      "13    4390              0.41                98.23             1.36  \n",
      "14    5130              0.06                98.47             1.48  \n",
      "15   36817              0.80                97.94             1.26  \n",
      "16   17852              4.77                94.73             0.50  \n",
      "17     207              0.35                98.63             1.01  \n",
      "18      50              0.53                98.99             0.49  \n",
      "19   10514              0.02                98.65             1.33  \n",
      "20  134064              1.13                96.76             2.11  \n",
      "21    1657              6.69                91.73             1.58  \n",
      "22    1174              6.83                91.48             1.69  \n",
      "23     169             27.35                72.27             0.37  \n",
      "24     585              4.87                93.10             2.04  \n",
      "25    6501              1.02                98.32             0.66  \n",
      "26    1800              0.69                97.84             1.48  \n",
      "27   16320              0.07                97.20             2.72  \n",
      "28    8954              0.02                99.04             0.94  \n",
      "29     355              9.79                88.94             1.27  \n",
      "30   34340              0.79                97.87             1.33  \n",
      "31    3828              1.27                98.14             0.59  \n",
      "32     771              2.54                96.50             0.96  \n",
      "33   22774              0.03                98.63             1.33  \n",
      "34    7368              0.13                97.72             2.15  \n",
      "35   18240              0.67                98.14             1.19  \n"
     ]
    }
   ],
   "source": [
    "print(df)"
   ]
  },
  {
   "cell_type": "code",
   "execution_count": 4,
   "id": "d50d3b53",
   "metadata": {},
   "outputs": [
    {
     "name": "stdout",
     "output_type": "stream",
     "text": [
      "             State/UTs  Total Cases  Active  Discharged  Deaths  \\\n",
      "0  Andaman and Nicobar         7546       5        7412     129   \n",
      "1       Andhra Pradesh      1983721   19549     1950623   13549   \n",
      "2    Arunachal Pradesh        50372    2606       47520     246   \n",
      "3                Assam       575220   11096      558720    5404   \n",
      "4                Bihar       725235     286      715303    9646   \n",
      "\n",
      "   Active Ratio (%)  Discharge Ratio (%)  Death Ratio (%)  \n",
      "0              0.07                98.22             1.71  \n",
      "1              0.99                98.33             0.68  \n",
      "2              5.17                94.34             0.49  \n",
      "3              1.93                97.13             0.94  \n",
      "4              0.04                98.63             1.33  \n"
     ]
    }
   ],
   "source": [
    "print(df.head())"
   ]
  },
  {
   "cell_type": "code",
   "execution_count": 6,
   "id": "5300bc2d",
   "metadata": {},
   "outputs": [
    {
     "name": "stdout",
     "output_type": "stream",
     "text": [
      "<class 'pandas.core.frame.DataFrame'>\n",
      "RangeIndex: 36 entries, 0 to 35\n",
      "Data columns (total 8 columns):\n",
      " #   Column               Non-Null Count  Dtype  \n",
      "---  ------               --------------  -----  \n",
      " 0   State/UTs            36 non-null     object \n",
      " 1   Total Cases          36 non-null     int64  \n",
      " 2   Active               36 non-null     int64  \n",
      " 3   Discharged           36 non-null     int64  \n",
      " 4   Deaths               36 non-null     int64  \n",
      " 5   Active Ratio (%)     36 non-null     float64\n",
      " 6   Discharge Ratio (%)  36 non-null     float64\n",
      " 7   Death Ratio (%)      36 non-null     float64\n",
      "dtypes: float64(3), int64(4), object(1)\n",
      "memory usage: 2.4+ KB\n"
     ]
    },
    {
     "ename": "TypeError",
     "evalue": "'module' object is not callable",
     "output_type": "error",
     "traceback": [
      "\u001b[0;31m---------------------------------------------------------------------------\u001b[0m",
      "\u001b[0;31mTypeError\u001b[0m                                 Traceback (most recent call last)",
      "\u001b[0;32m/tmp/ipykernel_30162/2005112889.py\u001b[0m in \u001b[0;36m<module>\u001b[0;34m\u001b[0m\n\u001b[0;32m----> 1\u001b[0;31m \u001b[0mpd\u001b[0m\u001b[0;34m(\u001b[0m\u001b[0mdf\u001b[0m\u001b[0;34m.\u001b[0m\u001b[0minfo\u001b[0m\u001b[0;34m(\u001b[0m\u001b[0;34m)\u001b[0m\u001b[0;34m)\u001b[0m\u001b[0;34m\u001b[0m\u001b[0;34m\u001b[0m\u001b[0m\n\u001b[0m",
      "\u001b[0;31mTypeError\u001b[0m: 'module' object is not callable"
     ]
    }
   ],
   "source": [
    "pd(df.info())"
   ]
  },
  {
   "cell_type": "code",
   "execution_count": 8,
   "id": "6f24bd35",
   "metadata": {},
   "outputs": [],
   "source": [
    "dt=df.dropna()"
   ]
  },
  {
   "cell_type": "code",
   "execution_count": 9,
   "id": "172b1ed1",
   "metadata": {},
   "outputs": [
    {
     "name": "stdout",
     "output_type": "stream",
     "text": [
      "                                   State/UTs  Total Cases  Active  Discharged  \\\n",
      "0                        Andaman and Nicobar         7546       5        7412   \n",
      "1                             Andhra Pradesh      1983721   19549     1950623   \n",
      "2                          Arunachal Pradesh        50372    2606       47520   \n",
      "3                                      Assam       575220   11096      558720   \n",
      "4                                      Bihar       725235     286      715303   \n",
      "5                                 Chandigarh        61984      27       61146   \n",
      "6                               Chhattisgarh      1003244    1700      988004   \n",
      "7   Dadra and Nagar Haveli and Daman and Diu        10653       6       10643   \n",
      "8                                      Delhi      1436800     498     1411235   \n",
      "9                                        Goa       171944     896      167884   \n",
      "10                                   Gujarat       825064     209      814778   \n",
      "11                                   Haryana       770091     672      759769   \n",
      "12                          Himachal Pradesh       208197    2086      202576   \n",
      "13                         Jammu and Kashmir       322658    1311      316957   \n",
      "14                                 Jharkhand       347406     202      342074   \n",
      "15                                 Karnataka      2919711   23342     2859552   \n",
      "16                                    Kerala      3565574  170031     3377691   \n",
      "17                                    Ladakh        20400      72       20121   \n",
      "18                               Lakshadweep        10249      54       10145   \n",
      "19                            Madhya Pradesh       791970     149      781307   \n",
      "20                               Maharashtra      6357833   71813     6151956   \n",
      "21                                   Manipur       104791    7006       96128   \n",
      "22                                 Meghalaya        69358    4734       63450   \n",
      "23                                   Mizoram        45457   12434       32854   \n",
      "24                                  Nagaland        28709    1397       26727   \n",
      "25                                    Odisha       987956   10064      971391   \n",
      "26                                Puducherry       121665     834      119031   \n",
      "27                                    Punjab       599514     441      582753   \n",
      "28                                 Rajasthan       953840     216      944670   \n",
      "29                                    Sikkim        27908    2731       24822   \n",
      "30                                Tamil Nadu      2577237   20427     2522470   \n",
      "31                                 Telengana       649859    8242      637789   \n",
      "32                                   Tripura        80416    2044       77601   \n",
      "33                             Uttar Pradesh      1708793     570     1685449   \n",
      "34                               Uttarakhand       342423     446      334609   \n",
      "35                               West Bengal      1534360   10312     1505808   \n",
      "\n",
      "    Deaths  Active Ratio (%)  Discharge Ratio (%)  Death Ratio (%)  \n",
      "0      129              0.07                98.22             1.71  \n",
      "1    13549              0.99                98.33             0.68  \n",
      "2      246              5.17                94.34             0.49  \n",
      "3     5404              1.93                97.13             0.94  \n",
      "4     9646              0.04                98.63             1.33  \n",
      "5      811              0.04                98.65             1.31  \n",
      "6    13540              0.17                98.48             1.35  \n",
      "7        4              0.06                99.91             0.04  \n",
      "8    25067              0.03                98.22             1.74  \n",
      "9     3164              0.52                97.64             1.84  \n",
      "10   10077              0.03                98.75             1.22  \n",
      "11    9650              0.09                98.66             1.25  \n",
      "12    3535              1.00                97.30             1.70  \n",
      "13    4390              0.41                98.23             1.36  \n",
      "14    5130              0.06                98.47             1.48  \n",
      "15   36817              0.80                97.94             1.26  \n",
      "16   17852              4.77                94.73             0.50  \n",
      "17     207              0.35                98.63             1.01  \n",
      "18      50              0.53                98.99             0.49  \n",
      "19   10514              0.02                98.65             1.33  \n",
      "20  134064              1.13                96.76             2.11  \n",
      "21    1657              6.69                91.73             1.58  \n",
      "22    1174              6.83                91.48             1.69  \n",
      "23     169             27.35                72.27             0.37  \n",
      "24     585              4.87                93.10             2.04  \n",
      "25    6501              1.02                98.32             0.66  \n",
      "26    1800              0.69                97.84             1.48  \n",
      "27   16320              0.07                97.20             2.72  \n",
      "28    8954              0.02                99.04             0.94  \n",
      "29     355              9.79                88.94             1.27  \n",
      "30   34340              0.79                97.87             1.33  \n",
      "31    3828              1.27                98.14             0.59  \n",
      "32     771              2.54                96.50             0.96  \n",
      "33   22774              0.03                98.63             1.33  \n",
      "34    7368              0.13                97.72             2.15  \n",
      "35   18240              0.67                98.14             1.19  \n"
     ]
    }
   ],
   "source": [
    "print(dt)"
   ]
  },
  {
   "cell_type": "code",
   "execution_count": null,
   "id": "4d051ab7",
   "metadata": {},
   "outputs": [],
   "source": []
  }
 ],
 "metadata": {
  "kernelspec": {
   "display_name": "Python 3 (ipykernel)",
   "language": "python",
   "name": "python3"
  },
  "language_info": {
   "codemirror_mode": {
    "name": "ipython",
    "version": 3
   },
   "file_extension": ".py",
   "mimetype": "text/x-python",
   "name": "python",
   "nbconvert_exporter": "python",
   "pygments_lexer": "ipython3",
   "version": "3.8.10"
  }
 },
 "nbformat": 4,
 "nbformat_minor": 5
}
