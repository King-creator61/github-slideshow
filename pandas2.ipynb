{
 "cells": [
  {
   "cell_type": "code",
   "execution_count": 1,
   "id": "043c8c22",
   "metadata": {},
   "outputs": [],
   "source": [
    "import pandas as pd"
   ]
  },
  {
   "cell_type": "code",
   "execution_count": 2,
   "id": "927264e3",
   "metadata": {},
   "outputs": [],
   "source": [
    "df=pd.read_csv('/home/spidy/Downloads/games.csv')"
   ]
  },
  {
   "cell_type": "code",
   "execution_count": 3,
   "id": "2f80c4c0",
   "metadata": {},
   "outputs": [
    {
     "name": "stdout",
     "output_type": "stream",
     "text": [
      "             id  rated    created_at  last_move_at  turns victory_status  \\\n",
      "0      TZJHLljE  False  1.504210e+12  1.504210e+12     13      outoftime   \n",
      "1      l1NXvwaE   True  1.504130e+12  1.504130e+12     16         resign   \n",
      "2      mIICvQHh   True  1.504130e+12  1.504130e+12     61           mate   \n",
      "3      kWKvrqYL   True  1.504110e+12  1.504110e+12     61           mate   \n",
      "4      9tXo1AUZ   True  1.504030e+12  1.504030e+12     95           mate   \n",
      "...         ...    ...           ...           ...    ...            ...   \n",
      "20053  EfqH7VVH   True  1.499791e+12  1.499791e+12     24         resign   \n",
      "20054  WSJDhbPl   True  1.499698e+12  1.499699e+12     82           mate   \n",
      "20055  yrAas0Kj   True  1.499698e+12  1.499698e+12     35           mate   \n",
      "20056  b0v4tRyF   True  1.499696e+12  1.499697e+12    109         resign   \n",
      "20057  N8G2JHGG   True  1.499643e+12  1.499644e+12     78           mate   \n",
      "\n",
      "      winner increment_code       white_id  white_rating            black_id  \\\n",
      "0      white           15+2       bourgris          1500                a-00   \n",
      "1      black           5+10           a-00          1322           skinnerua   \n",
      "2      white           5+10         ischia          1496                a-00   \n",
      "3      white           20+0  daniamurashov          1439        adivanov2009   \n",
      "4      white           30+3      nik221107          1523        adivanov2009   \n",
      "...      ...            ...            ...           ...                 ...   \n",
      "20053  white          10+10        belcolt          1691            jamboger   \n",
      "20054  black           10+0       jamboger          1233  farrukhasomiddinov   \n",
      "20055  white           10+0       jamboger          1219        schaaksmurf3   \n",
      "20056  white           10+0   marcodisogno          1360            jamboger   \n",
      "20057  black           10+0       jamboger          1235               ffbob   \n",
      "\n",
      "       black_rating                                              moves  \\\n",
      "0              1191  d4 d5 c4 c6 cxd5 e6 dxe6 fxe6 Nf3 Bb4+ Nc3 Ba5...   \n",
      "1              1261  d4 Nc6 e4 e5 f4 f6 dxe5 fxe5 fxe5 Nxe5 Qd4 Nc6...   \n",
      "2              1500  e4 e5 d3 d6 Be3 c6 Be2 b5 Nd2 a5 a4 c5 axb5 Nc...   \n",
      "3              1454  d4 d5 Nf3 Bf5 Nc3 Nf6 Bf4 Ng4 e3 Nc6 Be2 Qd7 O...   \n",
      "4              1469  e4 e5 Nf3 d6 d4 Nc6 d5 Nb4 a3 Na6 Nc3 Be7 b4 N...   \n",
      "...             ...                                                ...   \n",
      "20053          1220  d4 f5 e3 e6 Nf3 Nf6 Nc3 b6 Be2 Bb7 O-O Be7 Ne5...   \n",
      "20054          1196  d4 d6 Bf4 e5 Bg3 Nf6 e3 exd4 exd4 d5 c3 Bd6 Bd...   \n",
      "20055          1286  d4 d5 Bf4 Nc6 e3 Nf6 c3 e6 Nf3 Be7 Bd3 O-O Nbd...   \n",
      "20056          1227  e4 d6 d4 Nf6 e5 dxe5 dxe5 Qxd1+ Kxd1 Nd5 c4 Nb...   \n",
      "20057          1339  d4 d5 Bf4 Na6 e3 e6 c3 Nf6 Nf3 Bd7 Nbd2 b5 Bd3...   \n",
      "\n",
      "      opening_eco                            opening_name  opening_ply  \n",
      "0             D10        Slav Defense: Exchange Variation            5  \n",
      "1             B00  Nimzowitsch Defense: Kennedy Variation            4  \n",
      "2             C20   King's Pawn Game: Leonardis Variation            3  \n",
      "3             D02  Queen's Pawn Game: Zukertort Variation            3  \n",
      "4             C41                        Philidor Defense            5  \n",
      "...           ...                                     ...          ...  \n",
      "20053         A80                           Dutch Defense            2  \n",
      "20054         A41                            Queen's Pawn            2  \n",
      "20055         D00         Queen's Pawn Game: Mason Attack            3  \n",
      "20056         B07                            Pirc Defense            4  \n",
      "20057         D00         Queen's Pawn Game: Mason Attack            3  \n",
      "\n",
      "[20058 rows x 16 columns]\n"
     ]
    }
   ],
   "source": [
    "print(df)"
   ]
  },
  {
   "cell_type": "code",
   "execution_count": 5,
   "id": "646e14d2",
   "metadata": {},
   "outputs": [
    {
     "name": "stdout",
     "output_type": "stream",
     "text": [
      "<bound method NDFrame.head of              id  rated    created_at  last_move_at  turns victory_status  \\\n",
      "0      TZJHLljE  False  1.504210e+12  1.504210e+12     13      outoftime   \n",
      "1      l1NXvwaE   True  1.504130e+12  1.504130e+12     16         resign   \n",
      "2      mIICvQHh   True  1.504130e+12  1.504130e+12     61           mate   \n",
      "3      kWKvrqYL   True  1.504110e+12  1.504110e+12     61           mate   \n",
      "4      9tXo1AUZ   True  1.504030e+12  1.504030e+12     95           mate   \n",
      "...         ...    ...           ...           ...    ...            ...   \n",
      "20053  EfqH7VVH   True  1.499791e+12  1.499791e+12     24         resign   \n",
      "20054  WSJDhbPl   True  1.499698e+12  1.499699e+12     82           mate   \n",
      "20055  yrAas0Kj   True  1.499698e+12  1.499698e+12     35           mate   \n",
      "20056  b0v4tRyF   True  1.499696e+12  1.499697e+12    109         resign   \n",
      "20057  N8G2JHGG   True  1.499643e+12  1.499644e+12     78           mate   \n",
      "\n",
      "      winner increment_code       white_id  white_rating            black_id  \\\n",
      "0      white           15+2       bourgris          1500                a-00   \n",
      "1      black           5+10           a-00          1322           skinnerua   \n",
      "2      white           5+10         ischia          1496                a-00   \n",
      "3      white           20+0  daniamurashov          1439        adivanov2009   \n",
      "4      white           30+3      nik221107          1523        adivanov2009   \n",
      "...      ...            ...            ...           ...                 ...   \n",
      "20053  white          10+10        belcolt          1691            jamboger   \n",
      "20054  black           10+0       jamboger          1233  farrukhasomiddinov   \n",
      "20055  white           10+0       jamboger          1219        schaaksmurf3   \n",
      "20056  white           10+0   marcodisogno          1360            jamboger   \n",
      "20057  black           10+0       jamboger          1235               ffbob   \n",
      "\n",
      "       black_rating                                              moves  \\\n",
      "0              1191  d4 d5 c4 c6 cxd5 e6 dxe6 fxe6 Nf3 Bb4+ Nc3 Ba5...   \n",
      "1              1261  d4 Nc6 e4 e5 f4 f6 dxe5 fxe5 fxe5 Nxe5 Qd4 Nc6...   \n",
      "2              1500  e4 e5 d3 d6 Be3 c6 Be2 b5 Nd2 a5 a4 c5 axb5 Nc...   \n",
      "3              1454  d4 d5 Nf3 Bf5 Nc3 Nf6 Bf4 Ng4 e3 Nc6 Be2 Qd7 O...   \n",
      "4              1469  e4 e5 Nf3 d6 d4 Nc6 d5 Nb4 a3 Na6 Nc3 Be7 b4 N...   \n",
      "...             ...                                                ...   \n",
      "20053          1220  d4 f5 e3 e6 Nf3 Nf6 Nc3 b6 Be2 Bb7 O-O Be7 Ne5...   \n",
      "20054          1196  d4 d6 Bf4 e5 Bg3 Nf6 e3 exd4 exd4 d5 c3 Bd6 Bd...   \n",
      "20055          1286  d4 d5 Bf4 Nc6 e3 Nf6 c3 e6 Nf3 Be7 Bd3 O-O Nbd...   \n",
      "20056          1227  e4 d6 d4 Nf6 e5 dxe5 dxe5 Qxd1+ Kxd1 Nd5 c4 Nb...   \n",
      "20057          1339  d4 d5 Bf4 Na6 e3 e6 c3 Nf6 Nf3 Bd7 Nbd2 b5 Bd3...   \n",
      "\n",
      "      opening_eco                            opening_name  opening_ply  \n",
      "0             D10        Slav Defense: Exchange Variation            5  \n",
      "1             B00  Nimzowitsch Defense: Kennedy Variation            4  \n",
      "2             C20   King's Pawn Game: Leonardis Variation            3  \n",
      "3             D02  Queen's Pawn Game: Zukertort Variation            3  \n",
      "4             C41                        Philidor Defense            5  \n",
      "...           ...                                     ...          ...  \n",
      "20053         A80                           Dutch Defense            2  \n",
      "20054         A41                            Queen's Pawn            2  \n",
      "20055         D00         Queen's Pawn Game: Mason Attack            3  \n",
      "20056         B07                            Pirc Defense            4  \n",
      "20057         D00         Queen's Pawn Game: Mason Attack            3  \n",
      "\n",
      "[20058 rows x 16 columns]>\n"
     ]
    }
   ],
   "source": [
    "print(df.head)"
   ]
  },
  {
   "cell_type": "code",
   "execution_count": 8,
   "id": "f1c62451",
   "metadata": {},
   "outputs": [
    {
     "name": "stdout",
     "output_type": "stream",
     "text": [
      "         id  rated    created_at  last_move_at  turns victory_status winner  \\\n",
      "0  TZJHLljE  False  1.504210e+12  1.504210e+12     13      outoftime  white   \n",
      "1  l1NXvwaE   True  1.504130e+12  1.504130e+12     16         resign  black   \n",
      "2  mIICvQHh   True  1.504130e+12  1.504130e+12     61           mate  white   \n",
      "\n",
      "  increment_code  white_id  white_rating   black_id  black_rating  \\\n",
      "0           15+2  bourgris          1500       a-00          1191   \n",
      "1           5+10      a-00          1322  skinnerua          1261   \n",
      "2           5+10    ischia          1496       a-00          1500   \n",
      "\n",
      "                                               moves opening_eco  \\\n",
      "0  d4 d5 c4 c6 cxd5 e6 dxe6 fxe6 Nf3 Bb4+ Nc3 Ba5...         D10   \n",
      "1  d4 Nc6 e4 e5 f4 f6 dxe5 fxe5 fxe5 Nxe5 Qd4 Nc6...         B00   \n",
      "2  e4 e5 d3 d6 Be3 c6 Be2 b5 Nd2 a5 a4 c5 axb5 Nc...         C20   \n",
      "\n",
      "                             opening_name  opening_ply  \n",
      "0        Slav Defense: Exchange Variation            5  \n",
      "1  Nimzowitsch Defense: Kennedy Variation            4  \n",
      "2   King's Pawn Game: Leonardis Variation            3  \n"
     ]
    }
   ],
   "source": [
    "print(df.head(3))"
   ]
  },
  {
   "cell_type": "code",
   "execution_count": null,
   "id": "07996f05",
   "metadata": {},
   "outputs": [],
   "source": []
  }
 ],
 "metadata": {
  "kernelspec": {
   "display_name": "Python 3 (ipykernel)",
   "language": "python",
   "name": "python3"
  },
  "language_info": {
   "codemirror_mode": {
    "name": "ipython",
    "version": 3
   },
   "file_extension": ".py",
   "mimetype": "text/x-python",
   "name": "python",
   "nbconvert_exporter": "python",
   "pygments_lexer": "ipython3",
   "version": "3.8.10"
  }
 },
 "nbformat": 4,
 "nbformat_minor": 5
}
